{
 "cells": [
  {
   "cell_type": "code",
   "execution_count": null,
   "id": "ad1ed4f9-7d87-4346-b3e5-12e42b23f0d6",
   "metadata": {},
   "outputs": [],
   "source": [
    "import pandas as pd, numpy as np\n",
    "from ntpath import basename\n",
    "\n",
    "from pgDataLoader import pgDataLoader\n",
    "from pgMethods import Methods\n",
    "from pyCluster import dbscan"
   ]
  },
  {
   "cell_type": "code",
   "execution_count": null,
   "id": "05740481-f593-4ac5-951a-17df40589c40",
   "metadata": {},
   "outputs": [],
   "source": [
    "class Building:\n",
    "\tdef __init__(self, database='building', User='Olga', host='localhost', projection=4326, transform_to=None):\n",
    "\t\t# If the dataset is not in metric units, transform projection\n",
    "\t\tself.transform_to = transform_to;\n",
    "\n",
    "\t\t# file uploads \n",
    "\t\tself.upload = pgDataLoader(database=database, User=User, host=host, projection=projection)\n",
    "\n",
    "\t\t# methods to cal to server\n",
    "\t\tself.methods = Methods(database=database, User=User, host=host, projection=projection);\n",
    "\n",
    "\t\t# Reset storage tables\n",
    "\t\tself.methods.tableSetUp(transform_to=transform_to);"
   ]
  },
  {
   "cell_type": "code",
   "execution_count": null,
   "id": "455819c6-a8a0-474d-b051-f68c035f892d",
   "metadata": {},
   "outputs": [],
   "source": [
    "if __name__ == \"__main__\":\n",
    "\tb = Building(transform_to=5070)"
   ]
  }
 ],
 "metadata": {
  "kernelspec": {
   "display_name": "Python 3 (ipykernel)",
   "language": "python",
   "name": "python3"
  },
  "language_info": {
   "codemirror_mode": {
    "name": "ipython",
    "version": 3
   },
   "file_extension": ".py",
   "mimetype": "text/x-python",
   "name": "python",
   "nbconvert_exporter": "python",
   "pygments_lexer": "ipython3",
   "version": "3.12.0a7+"
  }
 },
 "nbformat": 4,
 "nbformat_minor": 5
}
