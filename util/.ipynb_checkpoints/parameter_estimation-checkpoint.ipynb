{
 "cells": [
  {
   "cell_type": "code",
   "execution_count": 1,
   "id": "3f6248bc-5343-4243-a0ad-13db273337e4",
   "metadata": {},
   "outputs": [],
   "source": [
    "import pandas as pd, numpy as np\n",
    "from sklearn.cluster import MiniBatchKMeans, KMeans, DBSCAN\n",
    "from Spatial import getOverlayPercentBuildings, GetBuildingOutline\n",
    "import matplotlib.pyplot as plt\n",
    "from __future__ import division"
   ]
  },
  {
   "cell_type": "code",
   "execution_count": null,
   "id": "504c0545-1c57-4a4d-aa1a-c54d5f69db35",
   "metadata": {},
   "outputs": [],
   "source": [
    "lidar_path = '\\Data\\\\lidar_SF_small.csv'\n",
    "ground_truth_data = '\\Data\\\\CrossValidationData.csv'"
   ]
  },
  {
   "cell_type": "code",
   "execution_count": null,
   "id": "48bc4e0f-d380-4bb9-b372-1e3ad0155711",
   "metadata": {},
   "outputs": [],
   "source": [
    "def crossvalidation(clustering_data, ground_truth_data):\n",
    "\n",
    "    overlay_percent = getOverlayPercentBuildings(clustering_data, ground_truth_data)\n",
    "    \n",
    "    total_len=len(overlay_percent)\n",
    "    correct=0\n",
    "    wrong=0\n",
    "    for i in range(0,total_len):\n",
    "        if overlay_percent[i] > 0.8:\n",
    "            correct=correct+1\n",
    "        else:\n",
    "            wrong = wrong+1\n",
    "        precision=(correct/(total_len))\n",
    "\n",
    "    return precision"
   ]
  },
  {
   "cell_type": "code",
   "execution_count": null,
   "id": "c300bedc-e9f3-4f18-b273-acd4247326ac",
   "metadata": {},
   "outputs": [],
   "source": [
    "eps_tot=[]\n",
    "min_samples_tot=[]\n",
    "percent_correct_tot=[]\n",
    "\n",
    "for i in range(8,11):\n",
    "    for j in range(4,10):\n",
    "        eps_new=i\n",
    "        min_samples_new=j\n",
    "        correct=0\n",
    "        wrong=0\n",
    "        clustering = Building_Outline(lidar_path, eps=eps_new, min_samples=min_samples_new)\n",
    "        clustering_outlines = GetBuildingOutline(clustering, lidar_path)\n",
    "        percent_correct = crossvalidation(clustering, ground_truth_data)\n",
    "        eps_tot.append(eps_new)\n",
    "        min_samples_tot.append(min_samples_new)\n",
    "        percent_correct_tot.append(percent_correct*100)"
   ]
  },
  {
   "cell_type": "code",
   "execution_count": null,
   "id": "03539805-3305-4db5-ae0a-3f2f947fee9e",
   "metadata": {},
   "outputs": [],
   "source": [
    "all=zip(percent_correct_tot,min_samples_tot,eps_tot)\n",
    "min_sample_optimal=max(all)[1]\n",
    "eps_optimal=max(all)[2]\n",
    "\n",
    "all_df=pd.DataFrame(all)\n",
    "all_df.columns=['percent_correct_tot','min_samples_tot','eps_tot']"
   ]
  },
  {
   "cell_type": "code",
   "execution_count": null,
   "id": "1c64622a-9dee-45de-a74e-48c503280b14",
   "metadata": {},
   "outputs": [],
   "source": [
    "plot_eps_tot=all_df[(all_df['min_samples_tot']==min_sample_optimal)]\n",
    "plot_sample_tot=all_df[(all_df['eps_tot']==eps_optimal)]\n",
    "\n",
    "plot_eps=plot_eps_tot['eps_tot']\n",
    "plot_percent_eps=plot_eps_tot['percent_correct_tot']\n",
    "\n",
    "plot_sample=plot_sample_tot['min_samples_tot']\n",
    "plot_percent_sample=plot_sample_tot['percent_correct_tot']\n",
    "\n",
    "fig = plt.figure(figsize=(12, 6))\n",
    "#plt.title('RMSE with respect to parameters',fontsize=14)\n",
    "st = fig.suptitle(\"RMSE with respect to parameters\", fontsize=18)\n",
    "ax = fig.add_subplot(1,2, 1)\n",
    "plt.ylabel('RMSE',fontsize=16)\n",
    "plt.xlabel('gamma',fontsize=16)\n",
    "plt.plot(plot_eps,plot_percent_eps)\n",
    "plt.grid()\n",
    "plt.xticks(fontsize=12)\n",
    "plt.yticks(fontsize=12)\n",
    "\n",
    "\n",
    "ax = fig.add_subplot(1,2, 2)\n",
    "plt.ylabel('RMSE',fontsize=16)\n",
    "plt.xlabel('gamma',fontsize=16)\n",
    "plt.plot(plot_sample,plot_percent_sample)\n",
    "plt.grid()\n",
    "plt.xticks(fontsize=12)\n",
    "plt.yticks(fontsize=12)"
   ]
  }
 ],
 "metadata": {
  "kernelspec": {
   "display_name": "Python 3 (ipykernel)",
   "language": "python",
   "name": "python3"
  },
  "language_info": {
   "codemirror_mode": {
    "name": "ipython",
    "version": 3
   },
   "file_extension": ".py",
   "mimetype": "text/x-python",
   "name": "python",
   "nbconvert_exporter": "python",
   "pygments_lexer": "ipython3",
   "version": "3.12.0a7+"
  }
 },
 "nbformat": 4,
 "nbformat_minor": 5
}
