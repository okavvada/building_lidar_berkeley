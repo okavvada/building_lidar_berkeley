{
 "cells": [
  {
   "cell_type": "code",
   "execution_count": 1,
   "id": "58c6ea3f-894c-47e1-b7f5-a6b0ab345aed",
   "metadata": {},
   "outputs": [
    {
     "ename": "ModuleNotFoundError",
     "evalue": "No module named 'util'",
     "output_type": "error",
     "traceback": [
      "\u001b[0;31m---------------------------------------------------------------------------\u001b[0m",
      "\u001b[0;31mModuleNotFoundError\u001b[0m                       Traceback (most recent call last)",
      "Cell \u001b[0;32mIn[1], line 2\u001b[0m\n\u001b[1;32m      1\u001b[0m \u001b[38;5;28;01mimport\u001b[39;00m \u001b[38;5;21;01mos\u001b[39;00m\n\u001b[0;32m----> 2\u001b[0m \u001b[38;5;28;01mfrom\u001b[39;00m \u001b[38;5;21;01mutil\u001b[39;00m\u001b[38;5;21;01m.\u001b[39;00m\u001b[38;5;21;01mpyBackbone\u001b[39;00m \u001b[38;5;28;01mimport\u001b[39;00m Building\n",
      "\u001b[0;31mModuleNotFoundError\u001b[0m: No module named 'util'"
     ]
    }
   ],
   "source": [
    "import os\n",
    "from util.pyBackbone import Building"
   ]
  },
  {
   "cell_type": "code",
   "execution_count": null,
   "id": "9d0f102d-38f2-44d2-be82-613e5cb0d5a7",
   "metadata": {},
   "outputs": [],
   "source": [
    "def Search(path_to_lidar_directory, database='building', User='Olga', host='localhost', projection=4326):\n",
    "\ttry:\n",
    "\t\tfiles = [f for f in os.listdir(path_to_lidar_directory) if f.endswith('.txt') or f.endswith('.csv')];\n",
    "\t\tassert (len(files) >0)\n",
    "\texcept:\n",
    "\t\tprint \"Please provide a path directory containing '.txt' or '.csv' files types.\"\n",
    "\n",
    "\t# Load building class\n",
    "\tbuilding = Building(database=database, User=User, host=host, projection=projection);\n",
    "\n",
    "\tfor file in files:\n",
    "\t\t#building.screen(file)\n",
    "\t\tpass\n"
   ]
  },
  {
   "cell_type": "code",
   "execution_count": null,
   "id": "cfee4d22-fa0a-4744-b7be-c908ff1402e6",
   "metadata": {},
   "outputs": [],
   "source": [
    "Search('../Data/Lidar', projection=32610);"
   ]
  }
 ],
 "metadata": {
  "kernelspec": {
   "display_name": "Python 3 (ipykernel)",
   "language": "python",
   "name": "python3"
  },
  "language_info": {
   "codemirror_mode": {
    "name": "ipython",
    "version": 3
   },
   "file_extension": ".py",
   "mimetype": "text/x-python",
   "name": "python",
   "nbconvert_exporter": "python",
   "pygments_lexer": "ipython3",
   "version": "3.12.0a7+"
  }
 },
 "nbformat": 4,
 "nbformat_minor": 5
}
